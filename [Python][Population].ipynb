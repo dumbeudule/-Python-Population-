{
 "cells": [
  {
   "cell_type": "code",
   "execution_count": 1,
   "id": "7c4e87ec",
   "metadata": {},
   "outputs": [],
   "source": [
    "import pandas as pd\n",
    "import numpy as np\n",
    "import matplotlib.pyplot as plt\n",
    "import seaborn as sns"
   ]
  },
  {
   "cell_type": "code",
   "execution_count": 2,
   "id": "8e5a9e8b",
   "metadata": {},
   "outputs": [
    {
     "name": "stdout",
     "output_type": "stream",
     "text": [
      "      id                     name      continent\n",
      "0    171              Afghanistan           Asia\n",
      "1     51                  Albania         Europe\n",
      "2    115                  Algeria         Africa\n",
      "3    172           American Samoa        Oceania\n",
      "4    116                   Angola         Africa\n",
      "..   ...                      ...            ...\n",
      "209   50  Virgin Islands, British  North America\n",
      "210  168           Western Sahara         Africa\n",
      "211  114                    Yemen           Asia\n",
      "212  169                   Zambia         Africa\n",
      "213  170                 Zimbabwe         Africa\n",
      "\n",
      "[214 rows x 3 columns]\n"
     ]
    }
   ],
   "source": [
    "#Read the data about countries and continent\n",
    "ctr = pd.read_csv (r'C:\\Users\\DUONG\\Desktop\\project\\population\\countries.csv')\n",
    "print (ctr)"
   ]
  },
  {
   "cell_type": "code",
   "execution_count": 3,
   "id": "cbbe1100",
   "metadata": {},
   "outputs": [
    {
     "name": "stdout",
     "output_type": "stream",
     "text": [
      "id            int64\n",
      "name         object\n",
      "continent    object\n",
      "dtype: object\n"
     ]
    }
   ],
   "source": [
    "#Ask the details of ctr\n",
    "print(ctr.dtypes)"
   ]
  },
  {
   "cell_type": "code",
   "execution_count": 4,
   "id": "40d8c26e",
   "metadata": {},
   "outputs": [
    {
     "name": "stdout",
     "output_type": "stream",
     "text": [
      "        id  population  year  country_id\n",
      "0        1     0.06306  2000           1\n",
      "1       12    31.09956  2000           2\n",
      "2       23     0.05689  2000           3\n",
      "3       34    99.92662  2000           4\n",
      "4       45     0.00641  2000           5\n",
      "...    ...         ...   ...         ...\n",
      "2338  2299     1.15463  2010         210\n",
      "2339  2310     0.12258  2010         211\n",
      "2340  2321     0.24221  2010         212\n",
      "2341  2332     0.22155  2010         213\n",
      "2342  2343    89.57113  2010         214\n",
      "\n",
      "[2343 rows x 4 columns]\n"
     ]
    }
   ],
   "source": [
    "#Read the data about population from 2000 to 2010\n",
    "plt = pd.read_csv (r'C:\\Users\\DUONG\\Desktop\\project\\population\\population_years.csv')\n",
    "print (plt)"
   ]
  },
  {
   "cell_type": "code",
   "execution_count": 5,
   "id": "fdf87c8a",
   "metadata": {},
   "outputs": [
    {
     "name": "stdout",
     "output_type": "stream",
     "text": [
      "id              int64\n",
      "population    float64\n",
      "year            int64\n",
      "country_id      int64\n",
      "dtype: object\n"
     ]
    }
   ],
   "source": [
    "#Ask the details of plt\n",
    "print(plt.dtypes)"
   ]
  },
  {
   "cell_type": "code",
   "execution_count": 6,
   "id": "224a14f7",
   "metadata": {},
   "outputs": [],
   "source": [
    "#Question no.1: How many entries in the countries table are from Asia?"
   ]
  },
  {
   "cell_type": "code",
   "execution_count": 7,
   "id": "2b6a2b6b",
   "metadata": {},
   "outputs": [
    {
     "name": "stdout",
     "output_type": "stream",
     "text": [
      "51\n"
     ]
    }
   ],
   "source": [
    "#Use for - if to do the calculation\n",
    "Asian_ctr = sum(1 for i in ctr['continent'] if i == 'Asia')\n",
    "print(Asian_ctr)"
   ]
  },
  {
   "cell_type": "code",
   "execution_count": 8,
   "id": "f0ea7e28",
   "metadata": {},
   "outputs": [],
   "source": [
    "#Question no.2: What was the total population of the continent of Asia over years?"
   ]
  },
  {
   "cell_type": "code",
   "execution_count": 9,
   "id": "b18d5847",
   "metadata": {},
   "outputs": [
    {
     "name": "stdout",
     "output_type": "stream",
     "text": [
      "      id                      name continent\n",
      "0    171               Afghanistan      Asia\n",
      "7     86                   Armenia      Asia\n",
      "11    87                Azerbaijan      Asia\n",
      "13   101                   Bahrain      Asia\n",
      "14   174                Bangladesh      Asia\n",
      "21   175                    Bhutan      Asia\n",
      "26   176                    Brunei      Asia\n",
      "29   177           Burma (Myanmar)      Asia\n",
      "31   178                  Cambodia      Asia\n",
      "39   179                     China      Asia\n",
      "49    57                    Cyprus      Asia\n",
      "72    90                   Georgia      Asia\n",
      "87   184                 Hong Kong      Asia\n",
      "90   185                     India      Asia\n",
      "91   186                 Indonesia      Asia\n",
      "92   102                      Iran      Asia\n",
      "93   103                      Iraq      Asia\n",
      "95   104                    Israel      Asia\n",
      "98   187                     Japan      Asia\n",
      "99   105                    Jordan      Asia\n",
      "100   91                Kazakhstan      Asia\n",
      "103  189              Korea, North      Asia\n",
      "104  190              Korea, South      Asia\n",
      "105  106                    Kuwait      Asia\n",
      "106   92                Kyrgyzstan      Asia\n",
      "107  191                      Laos      Asia\n",
      "109  107                   Lebanon      Asia\n",
      "115  192                     Macau      Asia\n",
      "119  193                  Malaysia      Asia\n",
      "120  194                  Maldives      Asia\n",
      "128  195                  Mongolia      Asia\n",
      "134  197                     Nepal      Asia\n",
      "144  108                      Oman      Asia\n",
      "145  201                  Pakistan      Asia\n",
      "146  109                 Palestine      Asia\n",
      "151  203               Philippines      Asia\n",
      "155  110                     Qatar      Asia\n",
      "167  111              Saudi Arabia      Asia\n",
      "171  205                 Singapore      Asia\n",
      "178  207                 Sri Lanka      Asia\n",
      "184  112                     Syria      Asia\n",
      "185  208                    Taiwan      Asia\n",
      "186   97                Tajikistan      Asia\n",
      "188  209                  Thailand      Asia\n",
      "189  210  Timor-Leste (East Timor)      Asia\n",
      "194   84                    Turkey      Asia\n",
      "195   98              Turkmenistan      Asia\n",
      "200  113      United Arab Emirates      Asia\n",
      "204  100                Uzbekistan      Asia\n",
      "207  214                   Vietnam      Asia\n",
      "211  114                     Yemen      Asia\n"
     ]
    }
   ],
   "source": [
    "#Get all the country with the continent of Asia\n",
    "Asia_ct = ctr[ctr['continent']=='Asia']\n",
    "print(Asia_ct)"
   ]
  },
  {
   "cell_type": "code",
   "execution_count": 10,
   "id": "dcf50261",
   "metadata": {},
   "outputs": [
    {
     "name": "stdout",
     "output_type": "stream",
     "text": [
      "43060.62809\n"
     ]
    }
   ],
   "source": [
    "#Sum up the population of the country with id in the list as above\n",
    "Asia_pop = plt[plt['country_id'].isin(Asia_ct['id'])]\n",
    "Asia_Total = Asia_pop['population'].sum(skipna=True)\n",
    "print(Asia_Total)"
   ]
  },
  {
   "cell_type": "code",
   "execution_count": 11,
   "id": "a60fa157",
   "metadata": {},
   "outputs": [],
   "source": [
    "#Question no.3: What was the average population of the continent of Asia in 2008?"
   ]
  },
  {
   "cell_type": "code",
   "execution_count": 12,
   "id": "aedb02f7",
   "metadata": {},
   "outputs": [
    {
     "name": "stdout",
     "output_type": "stream",
     "text": [
      "        id  population  year  country_id\n",
      "1759   614     1.06682  2008          57\n",
      "1786   911    75.79384  2008          84\n",
      "1788   933     2.96859  2008          86\n",
      "1789   944     8.17772  2008          87\n",
      "1792   977     4.63084  2008          90\n",
      "1793   988    15.34053  2008          91\n",
      "1794   999     5.35687  2008          92\n",
      "1799  1054     7.21188  2008          97\n",
      "1800  1065     4.82933  2008          98\n",
      "1802  1087    27.34503  2008         100\n",
      "1803  1098     0.71917  2008         101\n",
      "1804  1109    75.02536  2008         102\n",
      "1805  1120    28.22144  2008         103\n",
      "1806  1131     7.11236  2008         104\n",
      "1807  1142     6.13263  2008         105\n",
      "1808  1153     2.59806  2008         106\n",
      "1809  1164     4.03802  2008         107\n",
      "1810  1175     2.85388  2008         108\n",
      "1811  1186     3.90788  2008         109\n",
      "1812  1197     0.82479  2008         110\n",
      "1813  1208    24.91741  2008         111\n",
      "1814  1219    21.32486  2008         112\n",
      "1815  1230     4.62140  2008         113\n",
      "1816  1241    22.22285  2008         114\n",
      "1873  1868    27.65889  2008         171\n",
      "1876  1901   151.28999  2008         174\n",
      "1877  1912     0.68232  2008         175\n",
      "1878  1923     0.38137  2008         176\n",
      "1879  1934    52.22815  2008         177\n",
      "1880  1945    13.95701  2008         178\n",
      "1881  1956  1317.06568  2008         179\n",
      "1886  2011     7.01864  2008         184\n",
      "1887  2022  1140.56621  2008         185\n",
      "1888  2033   237.51236  2008         186\n",
      "1889  2044   127.28842  2008         187\n",
      "1891  2066    22.56535  2008         189\n",
      "1892  2077    48.37939  2008         190\n",
      "1893  2088     6.14518  2008         191\n",
      "1894  2099     0.54567  2008         192\n",
      "1895  2110    27.35776  2008         193\n",
      "1896  2121     0.38593  2008         194\n",
      "1897  2132     2.99608  2008         195\n",
      "1899  2154    28.19696  2008         197\n",
      "1903  2198   178.47939  2008         201\n",
      "1905  2220    96.06168  2008         203\n",
      "1907  2242     4.60817  2008         205\n",
      "1909  2264    21.12877  2008         207\n",
      "1910  2275    22.92095  2008         208\n",
      "1911  2286    66.18726  2008         209\n",
      "1912  2297     1.10878  2008         210\n",
      "1916  2341    87.55836  2008         214\n"
     ]
    }
   ],
   "source": [
    "#Get the population of Asian countries in 2008\n",
    "Asia_2008 = Asia_pop[Asia_pop['year']==2008]\n",
    "print(Asia_2008)"
   ]
  },
  {
   "cell_type": "code",
   "execution_count": 13,
   "id": "b3f531f3",
   "metadata": {},
   "outputs": [
    {
     "name": "stdout",
     "output_type": "stream",
     "text": [
      "79.36306431372547\n"
     ]
    }
   ],
   "source": [
    "Asian_sum08 = Asia_2008['population'].sum()\n",
    "Asian_count08 = Asia_2008['population'].count() \n",
    "print(Asian_sum08/Asian_count08)                                                    #Average=Sum/Count"
   ]
  },
  {
   "cell_type": "code",
   "execution_count": 14,
   "id": "3b0bc526",
   "metadata": {},
   "outputs": [],
   "source": [
    "#Question no.4: Compare the total population of Asia with other continents"
   ]
  },
  {
   "cell_type": "code",
   "execution_count": 15,
   "id": "b501d005",
   "metadata": {
    "scrolled": false
   },
   "outputs": [
    {
     "name": "stdout",
     "output_type": "stream",
     "text": [
      "      population      continent\n",
      "0        0.06306  North America\n",
      "1        0.06361  North America\n",
      "2        0.06418  North America\n",
      "3        0.06476  North America\n",
      "4        0.06534  North America\n",
      "...          ...            ...\n",
      "2338    85.47054           Asia\n",
      "2339    86.51885           Asia\n",
      "2340    87.55836           Asia\n",
      "2341    88.57676           Asia\n",
      "2342    89.57113           Asia\n",
      "\n",
      "[2343 rows x 2 columns]\n"
     ]
    }
   ],
   "source": [
    "#Create a new dataframe that have population and continent information\n",
    "merged_plt = pd.merge(left=plt, right=ctr, left_on='country_id', right_on='id')\n",
    "cont = merged_plt.loc[:, ['population','continent']]\n",
    "print(cont)"
   ]
  },
  {
   "cell_type": "code",
   "execution_count": 16,
   "id": "d1a6876e",
   "metadata": {
    "scrolled": true
   },
   "outputs": [
    {
     "name": "stdout",
     "output_type": "stream",
     "text": [
      "                population\n",
      "continent                 \n",
      "Africa          9972.25333\n",
      "Asia           43060.62809\n",
      "Europe          7991.48186\n",
      "North America   5643.75671\n",
      "Oceania          359.47808\n",
      "South America   4096.11401\n"
     ]
    }
   ],
   "source": [
    "#Group the total population by continent\n",
    "bycont = cont.groupby('continent')\n",
    "print(bycont.sum())"
   ]
  },
  {
   "cell_type": "code",
   "execution_count": 17,
   "id": "81bd87da",
   "metadata": {},
   "outputs": [
    {
     "data": {
      "text/plain": [
       "array([<AxesSubplot:ylabel='population'>], dtype=object)"
      ]
     },
     "execution_count": 17,
     "metadata": {},
     "output_type": "execute_result"
    },
    {
     "data": {
      "image/png": "[encoded data removed]",
      "text/plain": [
       "<Figure size 432x432 with 1 Axes>"
      ]
     },
     "metadata": {},
     "output_type": "display_data"
    }
   ],
   "source": [
    "#Draw a pie chart to show the comparison\n",
    "chart01=bycont.sum()\n",
    "chart01.plot.pie(subplots=True, title = \"Population by Continent\", figsize =(6,6), legend = False,\n",
    "                 colors = ('#FF0000','#FFA500','#FFFF00','#00FF00','#0000FF','#A020F0'),autopct='%1.1f%%',\n",
    "                 explode =(0.1, 0.1, 0.1, 0.1, 0.1, 0.1), shadow = True, startangle = 20, counterclock = True)"
   ]
  },
  {
   "cell_type": "code",
   "execution_count": 18,
   "id": "5bbddf22",
   "metadata": {},
   "outputs": [],
   "source": [
    "#Question no.5: Compare the number of countries of Asia with other continents"
   ]
  },
  {
   "cell_type": "code",
   "execution_count": 19,
   "id": "e6c9a010",
   "metadata": {},
   "outputs": [
    {
     "name": "stdout",
     "output_type": "stream",
     "text": [
      "         continent                     name\n",
      "0             Asia              Afghanistan\n",
      "1           Europe                  Albania\n",
      "2           Africa                  Algeria\n",
      "3          Oceania           American Samoa\n",
      "4           Africa                   Angola\n",
      "..             ...                      ...\n",
      "209  North America  Virgin Islands, British\n",
      "210         Africa           Western Sahara\n",
      "211           Asia                    Yemen\n",
      "212         Africa                   Zambia\n",
      "213         Africa                 Zimbabwe\n",
      "\n",
      "[214 rows x 2 columns]\n"
     ]
    }
   ],
   "source": [
    "#Get only data about countries and continents\n",
    "set_ctr = ctr.loc[:, ['continent', 'name']]\n",
    "print(set_ctr)"
   ]
  },
  {
   "cell_type": "code",
   "execution_count": 20,
   "id": "ea6cdd16",
   "metadata": {},
   "outputs": [
    {
     "name": "stdout",
     "output_type": "stream",
     "text": [
      "continent\n",
      "Africa           56\n",
      "Asia             51\n",
      "Europe           40\n",
      "North America    36\n",
      "Oceania          17\n",
      "South America    14\n",
      "Name: continent, dtype: int64\n"
     ]
    }
   ],
   "source": [
    "#Count the number of countries in each continent\n",
    "count_ctr = set_ctr.groupby(['continent'])['continent'].count()\n",
    "print(count_ctr)"
   ]
  },
  {
   "cell_type": "code",
   "execution_count": 21,
   "id": "729e6707",
   "metadata": {},
   "outputs": [
    {
     "data": {
      "image/png": "[encoded data removed]",
      "text/plain": [
       "<Figure size 432x288 with 1 Axes>"
      ]
     },
     "metadata": {
      "needs_background": "light"
     },
     "output_type": "display_data"
    }
   ],
   "source": [
    "#Draw a bar chart to show the comparison\n",
    "ctr_count = count_ctr.plot.barh(title = \"Number of countries by Continent\", legend = False, \n",
    "                                color = ['#FF0000','#FFA500','#FFFF00','#00FF00','#0000FF','#A020F0'])"
   ]
  },
  {
   "cell_type": "code",
   "execution_count": 22,
   "id": "ac331991",
   "metadata": {},
   "outputs": [],
   "source": [
    "#Question no.6: Add the population data from 2011 to 2020"
   ]
  },
  {
   "cell_type": "code",
   "execution_count": 23,
   "id": "be596f79",
   "metadata": {},
   "outputs": [
    {
     "name": "stdout",
     "output_type": "stream",
     "text": [
      "             name  population  year\n",
      "0     Afghanistan    3.011741  2011\n",
      "1     Afghanistan    3.116138  2012\n",
      "2     Afghanistan    3.226959  2013\n",
      "3     Afghanistan    3.337080  2014\n",
      "4     Afghanistan    3.441360  2015\n",
      "...           ...         ...   ...\n",
      "1965     Zimbabwe    1.403034  2016\n",
      "1966     Zimbabwe    1.423660  2017\n",
      "1967     Zimbabwe    1.443881  2018\n",
      "1968     Zimbabwe    1.464547  2019\n",
      "1969     Zimbabwe    1.486293  2020\n",
      "\n",
      "[1970 rows x 3 columns]\n"
     ]
    }
   ],
   "source": [
    "#Read the data about population from 2011 to 2020\n",
    "addctr = pd.read_excel (r'Desktop\\additional.xls')\n",
    "print (addctr)"
   ]
  },
  {
   "cell_type": "code",
   "execution_count": 24,
   "id": "f33030df",
   "metadata": {},
   "outputs": [
    {
     "name": "stdout",
     "output_type": "stream",
     "text": [
      "             name continent  population  year\n",
      "0     Afghanistan      Asia    3.011741  2011\n",
      "1     Afghanistan      Asia    3.116138  2012\n",
      "2     Afghanistan      Asia    3.226959  2013\n",
      "3     Afghanistan      Asia    3.337080  2014\n",
      "4     Afghanistan      Asia    3.441360  2015\n",
      "...           ...       ...         ...   ...\n",
      "1935     Zimbabwe    Africa    1.403034  2016\n",
      "1936     Zimbabwe    Africa    1.423660  2017\n",
      "1937     Zimbabwe    Africa    1.443881  2018\n",
      "1938     Zimbabwe    Africa    1.464547  2019\n",
      "1939     Zimbabwe    Africa    1.486293  2020\n",
      "\n",
      "[1940 rows x 4 columns]\n"
     ]
    }
   ],
   "source": [
    "#Merge the data about countries and population with each other\n",
    "merged_plt1 = pd.merge(left=ctr, right=addctr, left_on='name', right_on='name')\n",
    "merged_plt2 = merged_plt1.loc[:, ['name', 'continent', 'population', 'year']]\n",
    "print(merged_plt2)"
   ]
  },
  {
   "cell_type": "code",
   "execution_count": 25,
   "id": "1fa9a7aa",
   "metadata": {},
   "outputs": [
    {
     "name": "stdout",
     "output_type": "stream",
     "text": [
      "         name      continent  population  year\n",
      "0     Bermuda  North America     0.06306  2000\n",
      "1     Bermuda  North America     0.06361  2001\n",
      "2     Bermuda  North America     0.06418  2002\n",
      "3     Bermuda  North America     0.06476  2003\n",
      "4     Bermuda  North America     0.06534  2004\n",
      "...       ...            ...         ...   ...\n",
      "2338  Vietnam           Asia    85.47054  2006\n",
      "2339  Vietnam           Asia    86.51885  2007\n",
      "2340  Vietnam           Asia    87.55836  2008\n",
      "2341  Vietnam           Asia    88.57676  2009\n",
      "2342  Vietnam           Asia    89.57113  2010\n",
      "\n",
      "[2343 rows x 4 columns]\n"
     ]
    }
   ],
   "source": [
    "#Change the shape of merged_plt so that it is similar to merged_plt\n",
    "merged_plt3 = merged_plt.loc[:, ['name', 'continent', 'population', 'year']]\n",
    "print(merged_plt3)"
   ]
  },
  {
   "cell_type": "code",
   "execution_count": 26,
   "id": "778ee363",
   "metadata": {},
   "outputs": [
    {
     "name": "stdout",
     "output_type": "stream",
     "text": [
      "          name      continent  population  year\n",
      "0      Bermuda  North America    0.063060  2000\n",
      "1      Bermuda  North America    0.063610  2001\n",
      "2      Bermuda  North America    0.064180  2002\n",
      "3      Bermuda  North America    0.064760  2003\n",
      "4      Bermuda  North America    0.065340  2004\n",
      "...        ...            ...         ...   ...\n",
      "4278  Zimbabwe         Africa    1.403034  2016\n",
      "4279  Zimbabwe         Africa    1.423660  2017\n",
      "4280  Zimbabwe         Africa    1.443881  2018\n",
      "4281  Zimbabwe         Africa    1.464547  2019\n",
      "4282  Zimbabwe         Africa    1.486293  2020\n",
      "\n",
      "[4283 rows x 4 columns]\n"
     ]
    }
   ],
   "source": [
    "#Combine 2 dataframe together\n",
    "pop0020 = merged_plt3.append(merged_plt2, ignore_index=True)\n",
    "print(pop0020)"
   ]
  },
  {
   "cell_type": "code",
   "execution_count": 27,
   "id": "4ba49005",
   "metadata": {},
   "outputs": [],
   "source": [
    "#Question no.7: Present the change in population proportion of continents, in 00-10, 10-20 and in the whole period"
   ]
  },
  {
   "cell_type": "code",
   "execution_count": 28,
   "id": "ff6c4da6",
   "metadata": {},
   "outputs": [
    {
     "name": "stdout",
     "output_type": "stream",
     "text": [
      "                population\n",
      "continent                 \n",
      "Africa          9972.25333\n",
      "Asia           43060.62809\n",
      "Europe          7991.48186\n",
      "North America   5643.75671\n",
      "Oceania          359.47808\n",
      "South America   4096.11401\n"
     ]
    }
   ],
   "source": [
    "#Recall the total population of each continent from 2000 to 2010\n",
    "total0010 = chart01\n",
    "print(total0010)"
   ]
  },
  {
   "cell_type": "code",
   "execution_count": 29,
   "id": "c8256b78",
   "metadata": {},
   "outputs": [
    {
     "name": "stdout",
     "output_type": "stream",
     "text": [
      "                population\n",
      "continent                 \n",
      "Africa         1183.583831\n",
      "Asia           4370.047483\n",
      "Europe          586.205906\n",
      "North America   568.673922\n",
      "Oceania          39.856530\n",
      "South America   413.816478\n"
     ]
    }
   ],
   "source": [
    "#Get the total population of each continent from 2010 to 2020\n",
    "draft0 = merged_plt2.loc[:, ['population','continent']]\n",
    "draft1 = draft0.groupby('continent')\n",
    "total1020=draft1.sum()\n",
    "print(total1020)"
   ]
  },
  {
   "cell_type": "code",
   "execution_count": 30,
   "id": "931c6734",
   "metadata": {},
   "outputs": [
    {
     "name": "stdout",
     "output_type": "stream",
     "text": [
      "                 population\n",
      "continent                  \n",
      "Africa         11155.837161\n",
      "Asia           47430.675573\n",
      "Europe          8577.687766\n",
      "North America   6212.430632\n",
      "Oceania          399.334610\n",
      "South America   4509.930488\n"
     ]
    }
   ],
   "source": [
    "#Get the total population of each continent in the whole period\n",
    "draft2 = pop0020.loc[:, ['population','continent']]\n",
    "draft3 = draft2.groupby('continent')\n",
    "total0020=draft3.sum()\n",
    "print(total0020)"
   ]
  },
  {
   "cell_type": "code",
   "execution_count": 31,
   "id": "ef30812b",
   "metadata": {},
   "outputs": [
    {
     "name": "stdout",
     "output_type": "stream",
     "text": [
      "continent        Africa          Asia       Europe  North America    Oceania  \\\n",
      "00_10       9972.253330  43060.628090  7991.481860    5643.756710  359.47808   \n",
      "10_20       1183.583831   4370.047483   586.205906     568.673922   39.85653   \n",
      "00_20      11155.837161  47430.675573  8577.687766    6212.430632  399.33461   \n",
      "\n",
      "continent  South America  \n",
      "00_10        4096.114010  \n",
      "10_20         413.816478  \n",
      "00_20        4509.930488  \n"
     ]
    }
   ],
   "source": [
    "#Combine the data of 3 periods in one dataframe\n",
    "merged = pd.merge(left=total0010, right=total1020, left_on='continent', right_on='continent')\n",
    "mergedd = pd.merge(left=merged, right=total0020, left_on='continent', right_on='continent')\n",
    "mergedd = mergedd.rename(columns = {'population_x':'00_10', 'population_y':'10_20', 'population':'00_20'})\n",
    "merged000 = mergedd.T\n",
    "print(merged000)"
   ]
  },
  {
   "cell_type": "code",
   "execution_count": 32,
   "id": "067c10c3",
   "metadata": {},
   "outputs": [
    {
     "data": {
      "text/plain": [
       "<AxesSubplot:title={'center':'Proportion change through years'}>"
      ]
     },
     "execution_count": 32,
     "metadata": {},
     "output_type": "execute_result"
    },
    {
     "data": {
      "image/png": "[encoded data removed]",
      "text/plain": [
       "<Figure size 432x432 with 1 Axes>"
      ]
     },
     "metadata": {},
     "output_type": "display_data"
    },
    {
     "data": {
      "image/png": "[encoded data removed]",
      "text/plain": [
       "<Figure size 432x432 with 1 Axes>"
      ]
     },
     "metadata": {},
     "output_type": "display_data"
    },
    {
     "data": {
      "image/png": "[encoded data removed]",
      "text/plain": [
       "<Figure size 432x432 with 1 Axes>"
      ]
     },
     "metadata": {},
     "output_type": "display_data"
    },
    {
     "data": {
      "image/png": "[encoded data removed]",
      "text/plain": [
       "<Figure size 432x288 with 1 Axes>"
      ]
     },
     "metadata": {
      "needs_background": "light"
     },
     "output_type": "display_data"
    }
   ],
   "source": [
    "#Draw charts\n",
    "total0010.plot.pie(subplots=True, figsize =(6,6), colors = ('#FF0000','#FFA500','#FFFF00','#00FF00','#0000FF','#A020F0'),\n",
    "                   legend = False, autopct='%1.1f%%', shadow = True, startangle = 90, counterclock = False)\n",
    "total1020.plot.pie(subplots=True, figsize =(6,6), colors = ('#FF0000','#FFA500','#FFFF00','#00FF00','#0000FF','#A020F0'),\n",
    "                   legend = False, autopct='%1.1f%%', shadow = True, startangle = 90, counterclock = False)\n",
    "total0020.plot.pie(subplots=True, figsize =(6,6), colors = ('#FF0000','#FFA500','#FFFF00','#00FF00','#0000FF','#A020F0'),\n",
    "                   legend = False, autopct='%1.1f%%', shadow = True, startangle = 90, counterclock = False)\n",
    "merged000 = merged000.div(merged000.sum(1), axis=0)\n",
    "merged000.plot.area(title = \"Proportion change through years\",\n",
    "                    color = ('#FF0000','#FFA500','#FFFF00','#00FF00','#0000FF','#A020F0'))"
   ]
  }
 ],
 "metadata": {
  "kernelspec": {
   "display_name": "Python 3",
   "language": "python",
   "name": "python3"
  },
  "language_info": {
   "codemirror_mode": {
    "name": "ipython",
    "version": 3
   },
   "file_extension": ".py",
   "mimetype": "text/x-python",
   "name": "python",
   "nbconvert_exporter": "python",
   "pygments_lexer": "ipython3",
   "version": "3.8.8"
  }
 },
 "nbformat": 4,
 "nbformat_minor": 5
}
