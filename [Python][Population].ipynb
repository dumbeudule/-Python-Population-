{
 "cells": [
  {
   "cell_type": "code",
   "execution_count": 1,
   "id": "7c4e87ec",
   "metadata": {},
   "outputs": [],
   "source": [
    "import pandas as pd\n",
    "import numpy as np\n",
    "import matplotlib.pyplot as plt"
   ]
  },
  {
   "cell_type": "code",
   "execution_count": 2,
   "id": "8e5a9e8b",
   "metadata": {},
   "outputs": [
    {
     "name": "stdout",
     "output_type": "stream",
     "text": [
      "      id                       name      continent\n",
      "0      1                    Bermuda  North America\n",
      "1      2                     Canada  North America\n",
      "2      3                  Greenland  North America\n",
      "3      4                     Mexico  North America\n",
      "4      5  Saint Pierre and Miquelon  North America\n",
      "..   ...                        ...            ...\n",
      "209  210   Timor-Leste (East Timor)           Asia\n",
      "210  211                      Tonga        Oceania\n",
      "211  212       U.S. Pacific Islands        Oceania\n",
      "212  213                    Vanuatu        Oceania\n",
      "213  214                    Vietnam           Asia\n",
      "\n",
      "[214 rows x 3 columns]\n"
     ]
    }
   ],
   "source": [
    "ctr = pd.read_csv (r'C:\\Users\\DUONG\\Desktop\\project\\population\\countries.csv')\n",
    "print (ctr)"
   ]
  },
  {
   "cell_type": "code",
   "execution_count": 3,
   "id": "cbbe1100",
   "metadata": {},
   "outputs": [
    {
     "name": "stdout",
     "output_type": "stream",
     "text": [
      "id            int64\n",
      "name         object\n",
      "continent    object\n",
      "dtype: object\n"
     ]
    }
   ],
   "source": [
    "print(ctr.dtypes)"
   ]
  },
  {
   "cell_type": "code",
   "execution_count": 4,
   "id": "40d8c26e",
   "metadata": {},
   "outputs": [
    {
     "name": "stdout",
     "output_type": "stream",
     "text": [
      "        id  population  year  country_id\n",
      "0        1     0.06306  2000           1\n",
      "1        2     0.06361  2001           1\n",
      "2        3     0.06418  2002           1\n",
      "3        4     0.06476  2003           1\n",
      "4        5     0.06534  2004           1\n",
      "...    ...         ...   ...         ...\n",
      "2338  2339    85.47054  2006         214\n",
      "2339  2340    86.51885  2007         214\n",
      "2340  2341    87.55836  2008         214\n",
      "2341  2342    88.57676  2009         214\n",
      "2342  2343    89.57113  2010         214\n",
      "\n",
      "[2343 rows x 4 columns]\n"
     ]
    }
   ],
   "source": [
    "plt = pd.read_csv (r'C:\\Users\\DUONG\\Desktop\\project\\population\\population_years.csv')\n",
    "print (plt)"
   ]
  },
  {
   "cell_type": "code",
   "execution_count": 5,
   "id": "fdf87c8a",
   "metadata": {},
   "outputs": [
    {
     "name": "stdout",
     "output_type": "stream",
     "text": [
      "id              int64\n",
      "population    float64\n",
      "year            int64\n",
      "country_id      int64\n",
      "dtype: object\n"
     ]
    }
   ],
   "source": [
    "print(plt.dtypes)"
   ]
  },
  {
   "cell_type": "code",
   "execution_count": 6,
   "id": "224a14f7",
   "metadata": {},
   "outputs": [],
   "source": [
    "#Question no.1: How many entries in the countries table are from Asia?"
   ]
  },
  {
   "cell_type": "code",
   "execution_count": 7,
   "id": "2b6a2b6b",
   "metadata": {},
   "outputs": [
    {
     "name": "stdout",
     "output_type": "stream",
     "text": [
      "51\n"
     ]
    }
   ],
   "source": [
    "Asian_ctr = sum(1 for i in ctr['continent'] if i == 'Asia')\n",
    "print(Asian_ctr)"
   ]
  },
  {
   "cell_type": "code",
   "execution_count": 8,
   "id": "f0ea7e28",
   "metadata": {},
   "outputs": [],
   "source": [
    "#Question no.2: What was the total population of the continent of Asia over years?"
   ]
  },
  {
   "cell_type": "code",
   "execution_count": 9,
   "id": "b18d5847",
   "metadata": {},
   "outputs": [
    {
     "name": "stdout",
     "output_type": "stream",
     "text": [
      "      id                      name continent\n",
      "56    57                    Cyprus      Asia\n",
      "83    84                    Turkey      Asia\n",
      "85    86                   Armenia      Asia\n",
      "86    87                Azerbaijan      Asia\n",
      "89    90                   Georgia      Asia\n",
      "90    91                Kazakhstan      Asia\n",
      "91    92                Kyrgyzstan      Asia\n",
      "96    97                Tajikistan      Asia\n",
      "97    98              Turkmenistan      Asia\n",
      "99   100                Uzbekistan      Asia\n",
      "100  101                   Bahrain      Asia\n",
      "101  102                      Iran      Asia\n",
      "102  103                      Iraq      Asia\n",
      "103  104                    Israel      Asia\n",
      "104  105                    Jordan      Asia\n",
      "105  106                    Kuwait      Asia\n",
      "106  107                   Lebanon      Asia\n",
      "107  108                      Oman      Asia\n",
      "108  109                 Palestine      Asia\n",
      "109  110                     Qatar      Asia\n",
      "110  111              Saudi Arabia      Asia\n",
      "111  112                     Syria      Asia\n",
      "112  113      United Arab Emirates      Asia\n",
      "113  114                     Yemen      Asia\n",
      "170  171               Afghanistan      Asia\n",
      "173  174                Bangladesh      Asia\n",
      "174  175                    Bhutan      Asia\n",
      "175  176                    Brunei      Asia\n",
      "176  177           Burma (Myanmar)      Asia\n",
      "177  178                  Cambodia      Asia\n",
      "178  179                     China      Asia\n",
      "183  184                 Hong Kong      Asia\n",
      "184  185                     India      Asia\n",
      "185  186                 Indonesia      Asia\n",
      "186  187                     Japan      Asia\n",
      "188  189              Korea, North      Asia\n",
      "189  190              Korea, South      Asia\n",
      "190  191                      Laos      Asia\n",
      "191  192                     Macau      Asia\n",
      "192  193                  Malaysia      Asia\n",
      "193  194                  Maldives      Asia\n",
      "194  195                  Mongolia      Asia\n",
      "196  197                     Nepal      Asia\n",
      "200  201                  Pakistan      Asia\n",
      "202  203               Philippines      Asia\n",
      "204  205                 Singapore      Asia\n",
      "206  207                 Sri Lanka      Asia\n",
      "207  208                    Taiwan      Asia\n",
      "208  209                  Thailand      Asia\n",
      "209  210  Timor-Leste (East Timor)      Asia\n",
      "213  214                   Vietnam      Asia\n"
     ]
    }
   ],
   "source": [
    "#Get all the country with the continent of Asia\n",
    "Asia_ct = ctr[ctr['continent']=='Asia']\n",
    "print(Asia_ct)"
   ]
  },
  {
   "cell_type": "code",
   "execution_count": 10,
   "id": "dcf50261",
   "metadata": {},
   "outputs": [
    {
     "name": "stdout",
     "output_type": "stream",
     "text": [
      "43060.62809\n"
     ]
    }
   ],
   "source": [
    "#Sum up the population of the country with id in the list as above\n",
    "Asia_pop = plt[plt['country_id'].isin(Asia_ct['id'])]\n",
    "Asia_Total = Asia_pop['population'].sum(skipna=True)\n",
    "print(Asia_Total)"
   ]
  },
  {
   "cell_type": "code",
   "execution_count": 11,
   "id": "a60fa157",
   "metadata": {},
   "outputs": [],
   "source": [
    "#Question no.3: What was the average population of the continent of Asia in 2008?"
   ]
  },
  {
   "cell_type": "code",
   "execution_count": 12,
   "id": "aedb02f7",
   "metadata": {},
   "outputs": [
    {
     "name": "stdout",
     "output_type": "stream",
     "text": [
      "        id  population  year  country_id\n",
      "613    614     1.06682  2008          57\n",
      "910    911    75.79384  2008          84\n",
      "932    933     2.96859  2008          86\n",
      "943    944     8.17772  2008          87\n",
      "976    977     4.63084  2008          90\n",
      "987    988    15.34053  2008          91\n",
      "998    999     5.35687  2008          92\n",
      "1053  1054     7.21188  2008          97\n",
      "1064  1065     4.82933  2008          98\n",
      "1086  1087    27.34503  2008         100\n",
      "1097  1098     0.71917  2008         101\n",
      "1108  1109    75.02536  2008         102\n",
      "1119  1120    28.22144  2008         103\n",
      "1130  1131     7.11236  2008         104\n",
      "1141  1142     6.13263  2008         105\n",
      "1152  1153     2.59806  2008         106\n",
      "1163  1164     4.03802  2008         107\n",
      "1174  1175     2.85388  2008         108\n",
      "1185  1186     3.90788  2008         109\n",
      "1196  1197     0.82479  2008         110\n",
      "1207  1208    24.91741  2008         111\n",
      "1218  1219    21.32486  2008         112\n",
      "1229  1230     4.62140  2008         113\n",
      "1240  1241    22.22285  2008         114\n",
      "1867  1868    27.65889  2008         171\n",
      "1900  1901   151.28999  2008         174\n",
      "1911  1912     0.68232  2008         175\n",
      "1922  1923     0.38137  2008         176\n",
      "1933  1934    52.22815  2008         177\n",
      "1944  1945    13.95701  2008         178\n",
      "1955  1956  1317.06568  2008         179\n",
      "2010  2011     7.01864  2008         184\n",
      "2021  2022  1140.56621  2008         185\n",
      "2032  2033   237.51236  2008         186\n",
      "2043  2044   127.28842  2008         187\n",
      "2065  2066    22.56535  2008         189\n",
      "2076  2077    48.37939  2008         190\n",
      "2087  2088     6.14518  2008         191\n",
      "2098  2099     0.54567  2008         192\n",
      "2109  2110    27.35776  2008         193\n",
      "2120  2121     0.38593  2008         194\n",
      "2131  2132     2.99608  2008         195\n",
      "2153  2154    28.19696  2008         197\n",
      "2197  2198   178.47939  2008         201\n",
      "2219  2220    96.06168  2008         203\n",
      "2241  2242     4.60817  2008         205\n",
      "2263  2264    21.12877  2008         207\n",
      "2274  2275    22.92095  2008         208\n",
      "2285  2286    66.18726  2008         209\n",
      "2296  2297     1.10878  2008         210\n",
      "2340  2341    87.55836  2008         214\n"
     ]
    }
   ],
   "source": [
    "#Get the population of Asian countries in 2008\n",
    "Asia_2008 = Asia_pop[Asia_pop['year']==2008]\n",
    "print(Asia_2008)"
   ]
  },
  {
   "cell_type": "code",
   "execution_count": 13,
   "id": "b3f531f3",
   "metadata": {},
   "outputs": [
    {
     "name": "stdout",
     "output_type": "stream",
     "text": [
      "79.36306431372547\n"
     ]
    }
   ],
   "source": [
    "Asian_sum08 = Asia_2008['population'].sum()\n",
    "Asian_count08 = Asia_2008['population'].count() \n",
    "print(Asian_sum08/Asian_count08)                                                    #Average=Sum/Count"
   ]
  },
  {
   "cell_type": "code",
   "execution_count": 14,
   "id": "3b0bc526",
   "metadata": {},
   "outputs": [],
   "source": [
    "#Question no.4: Compare the total population of Asia with other continent"
   ]
  },
  {
   "cell_type": "code",
   "execution_count": 15,
   "id": "b501d005",
   "metadata": {
    "scrolled": false
   },
   "outputs": [
    {
     "name": "stdout",
     "output_type": "stream",
     "text": [
      "      population      continent\n",
      "0        0.06306  North America\n",
      "1        0.06361  North America\n",
      "2        0.06418  North America\n",
      "3        0.06476  North America\n",
      "4        0.06534  North America\n",
      "...          ...            ...\n",
      "2338    85.47054           Asia\n",
      "2339    86.51885           Asia\n",
      "2340    87.55836           Asia\n",
      "2341    88.57676           Asia\n",
      "2342    89.57113           Asia\n",
      "\n",
      "[2343 rows x 2 columns]\n"
     ]
    }
   ],
   "source": [
    "#Create a new dataframe that have population and continent information\n",
    "merged_plt = pd.merge(left=plt, right=ctr, left_on='country_id', right_on='id')\n",
    "cont = merged_plt.loc[:, ['population','continent']]\n",
    "print(cont)"
   ]
  },
  {
   "cell_type": "code",
   "execution_count": 16,
   "id": "d1a6876e",
   "metadata": {
    "scrolled": true
   },
   "outputs": [
    {
     "name": "stdout",
     "output_type": "stream",
     "text": [
      "                population\n",
      "continent                 \n",
      "Africa          9972.25333\n",
      "Asia           43060.62809\n",
      "Europe          7991.48186\n",
      "North America   5643.75671\n",
      "Oceania          359.47808\n",
      "South America   4096.11401\n"
     ]
    }
   ],
   "source": [
    "#Group the total population by continent\n",
    "bycont = cont.groupby('continent')\n",
    "print(bycont.sum())"
   ]
  },
  {
   "cell_type": "code",
   "execution_count": 18,
   "id": "81bd87da",
   "metadata": {},
   "outputs": [
    {
     "data": {
      "text/plain": [
       "array([<AxesSubplot:ylabel='population'>], dtype=object)"
      ]
     },
     "execution_count": 18,
     "metadata": {},
     "output_type": "execute_result"
    },
    {
     "data": {
      "image/png": "[encoded data removed]",
      "text/plain": [
       "<Figure size 432x432 with 1 Axes>"
      ]
     },
     "metadata": {},
     "output_type": "display_data"
    }
   ],
   "source": [
    "#Draw a pie chart to show the comparison\n",
    "chart01=bycont.sum()\n",
    "chart01.plot.pie(subplots=True, title = \"Population by Continent\", figsize =(6,6), legend = False, colors = ('#FF0000','#FFA500','#FFFF00','#00FF00','#0000FF','#A020F0'), explode =(0.1, 0.1, 0.1, 0.1, 0.1, 0.1), autopct='%1.1f%%', shadow = True, startangle = 20, counterclock = True)"
   ]
  },
  {
   "cell_type": "code",
   "execution_count": null,
   "id": "5bbddf22",
   "metadata": {},
   "outputs": [],
   "source": [
    "#Question no.4: Compare the number of countries of Asia with other continent"
   ]
  }
 ],
 "metadata": {
  "kernelspec": {
   "display_name": "Python 3",
   "language": "python",
   "name": "python3"
  },
  "language_info": {
   "codemirror_mode": {
    "name": "ipython",
    "version": 3
   },
   "file_extension": ".py",
   "mimetype": "text/x-python",
   "name": "python",
   "nbconvert_exporter": "python",
   "pygments_lexer": "ipython3",
   "version": "3.8.8"
  }
 },
 "nbformat": 4,
 "nbformat_minor": 5
}
